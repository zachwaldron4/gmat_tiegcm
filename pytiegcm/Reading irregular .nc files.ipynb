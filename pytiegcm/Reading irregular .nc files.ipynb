{
 "cells": [
  {
   "cell_type": "code",
   "execution_count": 1,
   "metadata": {},
   "outputs": [
    {
     "data": {
      "text/html": [
       "<script>requirejs.config({paths: { 'plotly': ['https://cdn.plot.ly/plotly-latest.min']},});if(!window.Plotly) {{require(['plotly'],function(plotly) {window.Plotly=plotly;});}}</script>"
      ],
      "text/vnd.plotly.v1+html": [
       "<script>requirejs.config({paths: { 'plotly': ['https://cdn.plot.ly/plotly-latest.min']},});if(!window.Plotly) {{require(['plotly'],function(plotly) {window.Plotly=plotly;});}}</script>"
      ]
     },
     "metadata": {},
     "output_type": "display_data"
    }
   ],
   "source": [
    "%load_ext autoreload\n",
    "%autoreload 2\n",
    "\n",
    "import warnings\n",
    "warnings.filterwarnings(action='ignore')\n",
    "\n",
    "import pandas as pd\n",
    "import numpy as np\n",
    "from scipy.spatial import kdtree\n",
    "from scipy.interpolate import griddata, LinearNDInterpolator\n",
    "import scipy\n",
    "from netCDF4 import Dataset\n",
    "from plotly.offline import plot, iplot\n",
    "import plotly.graph_objs as go\n",
    "from plotly.graph_objs import Layout\n",
    "import plotly\n",
    "import matplotlib.pyplot as plt\n",
    "import antlr4 \n",
    "\n",
    "plotly.offline.init_notebook_mode(connected=True)"
   ]
  },
  {
   "cell_type": "code",
   "execution_count": 2,
   "metadata": {},
   "outputs": [],
   "source": [
    "from tiegcm.tiegcm import TIEGCM, Point3D, Point4D, Slice_key4D, ColumnSlice4D, ColumnSlice3D, Model_Manager\n",
    "from tiegcm.util import average_longitude\n",
    "from tiegcm.util import *"
   ]
  },
  {
   "cell_type": "code",
   "execution_count": null,
   "metadata": {},
   "outputs": [],
   "source": []
  },
  {
   "cell_type": "code",
   "execution_count": 3,
   "metadata": {},
   "outputs": [],
   "source": [
    "\n",
    "\n",
    "# start_min = 1.445*1e4  # time corresponds to first instance of 75th day\n",
    "# end_min = 2.164*1e4    # time corresponds to last instance of 79th day\n",
    "# # tiegcm.rootgrp['time'] == 1.445*1e4:\n",
    "# tiegcm_time = np.array(tiegcm.rootgrp['time'])\n",
    "\n",
    "# print 'tiegcm_time shape =', tiegcm_time.shape, '\\n'\n",
    "\n",
    "# get_index = []\n",
    "# for i, time in enumerate(tiegcm_time):\n",
    "#     if time >= start_min and time <= end_min:\n",
    "#         get_index.append(i)\n",
    "# get_index = np.array(get_index)\n",
    "# # print get_index.shape\n",
    "\n",
    "# # mins since 2013-3-6 00:00:00    \n",
    "# times_want = tiegcm_time[get_index]\n",
    "# date = pd.date_range(start='2013/3/16', end='2013/3/20')\n",
    "# # print date\n",
    "\n",
    "# date2 = pd.DatetimeIndex(start='2013/3/16', end ='2013/3/24', freq = '10T')\n",
    "# print date2\n",
    "\n",
    "\n"
   ]
  },
  {
   "cell_type": "code",
   "execution_count": 4,
   "metadata": {},
   "outputs": [
    {
     "name": "stdout",
     "output_type": "stream",
     "text": [
      "get_files\n",
      "initializing tiegcm with ../data/TIEGCM_data/2013.03.16_2013.03.20_storm/IRIDEA/main_2013_065_data-mult-fac-1p2056.0/it_3_dir/sechist_iter3.nc\n",
      "FLAG get_time_range 2013-03-06 21:10:00 2013-03-07 18:00:00\n",
      "FLAG get_time_range 2013-03-06 21:10:00 2013-03-07 18:00:00\n",
      "initializing tiegcm with ../data/TIEGCM_data/2013.03.16_2013.03.20_storm/IRIDEA/main_2013_065_data-mult-fac-1p2056.0/it_3_dir/sechist_iter3.nc\n",
      "FLAG get_time_range 2013-03-06 21:10:00 2013-03-07 18:00:00\n",
      "model manager initialized\n",
      "current time (Timestamp('2013-03-06 21:10:00'), Timestamp('2013-03-07 18:00:00'))\n",
      "get_files\n",
      "initializing tiegcm with ../data/TIEGCM_data/2013.03.16_2013.03.20_storm/Cheyenne_2013.03.16_2013.03.20/s_075.nc\n",
      "FLAG get_time_range 2013-03-16 00:00:00 2013-03-16 23:00:00\n",
      "FLAG get_time_range 2013-03-16 00:00:00 2013-03-16 23:00:00\n",
      "initializing tiegcm with ../data/TIEGCM_data/2013.03.16_2013.03.20_storm/Cheyenne_2013.03.16_2013.03.20/s_076.nc\n",
      "FLAG get_time_range 2013-03-17 00:00:00 2013-03-17 23:00:00\n",
      "FLAG get_time_range 2013-03-17 00:00:00 2013-03-17 23:00:00\n",
      "initializing tiegcm with ../data/TIEGCM_data/2013.03.16_2013.03.20_storm/Cheyenne_2013.03.16_2013.03.20/s_077.nc\n",
      "FLAG get_time_range 2013-03-18 00:00:00 2013-03-18 23:00:00\n",
      "FLAG get_time_range 2013-03-18 00:00:00 2013-03-18 23:00:00\n",
      "initializing tiegcm with ../data/TIEGCM_data/2013.03.16_2013.03.20_storm/Cheyenne_2013.03.16_2013.03.20/s_078.nc\n",
      "FLAG get_time_range 2013-03-19 00:00:00 2013-03-19 23:00:00\n",
      "FLAG get_time_range 2013-03-19 00:00:00 2013-03-19 23:00:00\n",
      "initializing tiegcm with ../data/TIEGCM_data/2013.03.16_2013.03.20_storm/Cheyenne_2013.03.16_2013.03.20/s_079.nc\n",
      "FLAG get_time_range 2013-03-20 00:00:00 2013-03-20 23:00:00\n",
      "FLAG get_time_range 2013-03-20 00:00:00 2013-03-20 23:00:00\n",
      "initializing tiegcm with ../data/TIEGCM_data/2013.03.16_2013.03.20_storm/Cheyenne_2013.03.16_2013.03.20/s_075.nc\n",
      "FLAG get_time_range 2013-03-16 00:00:00 2013-03-16 23:00:00\n",
      "initializing tiegcm with ../data/TIEGCM_data/2013.03.16_2013.03.20_storm/Cheyenne_2013.03.16_2013.03.20/s_076.nc\n",
      "FLAG get_time_range 2013-03-17 00:00:00 2013-03-17 23:00:00\n",
      "initializing tiegcm with ../data/TIEGCM_data/2013.03.16_2013.03.20_storm/Cheyenne_2013.03.16_2013.03.20/s_077.nc\n",
      "FLAG get_time_range 2013-03-18 00:00:00 2013-03-18 23:00:00\n",
      "initializing tiegcm with ../data/TIEGCM_data/2013.03.16_2013.03.20_storm/Cheyenne_2013.03.16_2013.03.20/s_078.nc\n",
      "FLAG get_time_range 2013-03-19 00:00:00 2013-03-19 23:00:00\n",
      "initializing tiegcm with ../data/TIEGCM_data/2013.03.16_2013.03.20_storm/Cheyenne_2013.03.16_2013.03.20/s_079.nc\n",
      "FLAG get_time_range 2013-03-20 00:00:00 2013-03-20 23:00:00\n",
      "model manager initialized\n",
      "current time (Timestamp('2013-03-16 00:00:00'), Timestamp('2013-03-16 23:00:00'))\n"
     ]
    }
   ],
   "source": [
    "# tiegcm = TIEGCM('../data/TIEGCM_data/2013.03.16_2013.03.20_storm/IRIDEA/main_2013_065_data-mult-fac-1p2056.0/it_3_dir/sechist_iter3.nc')\n",
    "mm_iridea = Model_Manager(directory='../data/TIEGCM_data/2013.03.16_2013.03.20_storm/IRIDEA/main_2013_065_data-mult-fac-1p2056.0/it_3_dir/')\n",
    "mm_reg = Model_Manager(directory='../data/TIEGCM_data/2013.03.16_2013.03.20_storm/Cheyenne_2013.03.16_2013.03.20/')"
   ]
  },
  {
   "cell_type": "code",
   "execution_count": 5,
   "metadata": {},
   "outputs": [
    {
     "name": "stdout",
     "output_type": "stream",
     "text": [
      "2013-03-07 01:14:00\n",
      "6.864773780882662e-15\n"
     ]
    }
   ],
   "source": [
    "# /glade/work/esutton/IRIDEA.StPatricksDayStorm/main_2013_065_data-mult-fac-1p2056.0\n",
    "# /glade/work/esutton/IRIDEA.StPatricksDayStorm/main_2013_065_data-mult-fac-1p0.0\n",
    "\n",
    "\n",
    "\n",
    "formatdate = pd.to_datetime('2013-03-07 01:14:00',format = ('%Y-%m-%d %H:%M:%f')) \n",
    "print formatdate\n",
    "xlat = 15 \n",
    "xlon = -56\n",
    "xalt = 350*1e5\n",
    "idate =  formatdate\n",
    "\n",
    "\n",
    "\n",
    "\n",
    "density = mm_iridea.density(xlat, xlon, xalt, idate )\n",
    "print density"
   ]
  },
  {
   "cell_type": "code",
   "execution_count": null,
   "metadata": {},
   "outputs": [],
   "source": []
  }
 ],
 "metadata": {
  "kernelspec": {
   "display_name": "Python 2",
   "language": "python",
   "name": "python2"
  },
  "language_info": {
   "codemirror_mode": {
    "name": "ipython",
    "version": 2
   },
   "file_extension": ".py",
   "mimetype": "text/x-python",
   "name": "python",
   "nbconvert_exporter": "python",
   "pygments_lexer": "ipython2",
   "version": "2.7.16"
  }
 },
 "nbformat": 4,
 "nbformat_minor": 2
}
