{
 "cells": [
  {
   "cell_type": "markdown",
   "metadata": {},
   "source": [
    "# In matlab, ZGMID can be caclulated as follows \n",
    "    zgmid = zeros(1,length(zg));\n",
    "    % interpolate zgmid from zg\n",
    "    for k=1:length(zgmid)-1,\n",
    "        zgmid(k) = 0.5*(zg(k)+zg(k+1))\n",
    "    end\n",
    "    % extrapolate highest zgmid from zg\n",
    "    zgmid(end) = 2.0*zgmid(end-1)-zgmid(end-2) (edited) "
   ]
  },
  {
   "cell_type": "code",
   "execution_count": 1,
   "metadata": {},
   "outputs": [],
   "source": [
    "import numpy as np\n",
    "# import netCDF4\n",
    "from netCDF4 import Dataset\n",
    "import matplotlib.pyplot as plt"
   ]
  },
  {
   "cell_type": "code",
   "execution_count": 2,
   "metadata": {},
   "outputs": [
    {
     "name": "stderr",
     "output_type": "stream",
     "text": [
      "/Users/zwaldron/anaconda3/envs/kamodo/lib/python2.7/site-packages/ipykernel_launcher.py:3: UserWarning: WARNING: missing_value not used since it\n",
      "cannot be safely cast to variable data type\n",
      "  This is separate from the ipykernel package so we can avoid doing imports until\n"
     ]
    }
   ],
   "source": [
    "filename = '../data/TIEGCM_CCMC/my_stuff/s_002.nc'\n",
    "s_003 = Dataset(filename)\n",
    "ZG = np.array(s_003.variables[\"ZG\"])\n"
   ]
  },
  {
   "cell_type": "code",
   "execution_count": 3,
   "metadata": {},
   "outputs": [
    {
     "name": "stdout",
     "output_type": "stream",
     "text": [
      "(24, 29, 36, 72)\n"
     ]
    }
   ],
   "source": [
    "ulat = 10\n",
    "ulon = 30\n",
    "uut = 12\n",
    "\n",
    "zg = ZG[uut, :, ulat, ulon]\n",
    "\n",
    "print  np.array(ZG).shape"
   ]
  },
  {
   "cell_type": "code",
   "execution_count": 4,
   "metadata": {},
   "outputs": [],
   "source": [
    "\n",
    "zgmid = []             \n",
    "#  interpolate zgmid from zg\n",
    "for i, val in enumerate(zg[:-1]):  \n",
    "    zgmid.append(0.5*(zg[i] + zg[i+1]))    \n",
    "    \n",
    "#  extrapolate highest zgmid from zg\n",
    "zgmid.append(2.0*zgmid[-1] - zgmid[-2]  )"
   ]
  },
  {
   "cell_type": "code",
   "execution_count": 5,
   "metadata": {},
   "outputs": [
    {
     "name": "stdout",
     "output_type": "stream",
     "text": [
      "(29,)\n",
      "[ 97.48706 100.06779 102.86521 106.2683  110.59142 116.00868 122.63606\n",
      " 130.65281 140.3008  151.79922 165.26352 180.67136 197.89448 216.77552\n",
      " 237.1932  259.08044 282.40656 307.14732 333.25986 360.6706  389.27884\n",
      " 418.97232 449.64808 481.2324  513.6984  547.08324 581.50944 616.49936\n",
      " 651.48928]\n"
     ]
    },
    {
     "data": {
      "text/plain": [
       "<matplotlib.legend.Legend at 0x11be86610>"
      ]
     },
     "execution_count": 5,
     "metadata": {},
     "output_type": "execute_result"
    },
    {
     "data": {
      "image/png": "[encoded data removed]",
      "text/plain": [
       "<Figure size 432x288 with 1 Axes>"
      ]
     },
     "metadata": {
      "needs_background": "light"
     },
     "output_type": "display_data"
    }
   ],
   "source": [
    "print np.array(zgmid).shape\n",
    "print np.array(zgmid)*1e-5\n",
    "\n",
    "plt.plot(zgmid)\n",
    "plt.plot(zg)\n",
    "plt.legend({'zgmid','zg'})"
   ]
  },
  {
   "cell_type": "code",
   "execution_count": 6,
   "metadata": {},
   "outputs": [
    {
     "name": "stdout",
     "output_type": "stream",
     "text": [
      "-14.018680000000018\n"
     ]
    }
   ],
   "source": [
    "index = 19\n",
    "\n",
    "print zg[index]*1e-5 - zgmid[index]*1e-5\n",
    "\n"
   ]
  },
  {
   "cell_type": "code",
   "execution_count": null,
   "metadata": {},
   "outputs": [],
   "source": []
  }
 ],
 "metadata": {
  "kernelspec": {
   "display_name": "Python 2",
   "language": "python",
   "name": "python2"
  },
  "language_info": {
   "codemirror_mode": {
    "name": "ipython",
    "version": 2
   },
   "file_extension": ".py",
   "mimetype": "text/x-python",
   "name": "python",
   "nbconvert_exporter": "python",
   "pygments_lexer": "ipython2",
   "version": "2.7.16"
  }
 },
 "nbformat": 4,
 "nbformat_minor": 2
}
