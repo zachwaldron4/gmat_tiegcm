{
 "cells": [
  {
   "cell_type": "markdown",
   "metadata": {},
   "source": [
    "# Sample TIEGCM $\\rho$ with Aqua\n",
    "This notebook samples neutral density of the TIEGCM model along the Aqua satellite orbit.\n",
    "\n",
    "    Aqua orbit data from this website: https://sscweb.gsfc.nasa.gov/cgi-bin/Locator.cgi"
   ]
  },
  {
   "cell_type": "code",
   "execution_count": 1,
   "metadata": {},
   "outputs": [],
   "source": [
    "%load_ext autoreload\n",
    "%autoreload 2"
   ]
  },
  {
   "cell_type": "code",
   "execution_count": 2,
   "metadata": {},
   "outputs": [],
   "source": [
    "import numpy as np\n",
    "import pandas as pd\n",
    "import matplotlib.pyplot as plt\n",
    "import datetime\n",
    "\n",
    "%matplotlib inline\n",
    "\n",
    "import seaborn as sns\n",
    "sns.set(style='ticks', context='talk')\n",
    "import matplotlib.pyplot as plt\n"
   ]
  },
  {
   "cell_type": "code",
   "execution_count": 3,
   "metadata": {},
   "outputs": [],
   "source": [
    "aqua_orbit_file = \"../../Summer2019_data/aqua_orbit/aqua_data_2013_03_01_to_2013_03_04.csv\"\n",
    "\n",
    "aqua_data_raw = pd.read_csv(aqua_orbit_file, \n",
    "                         skiprows = 4 ,\n",
    "                         names = ['date', 'X_geo','Y_geo','Z_geo','lat','lon','local_time_geo','radius'],\n",
    "                         parse_dates = True,\n",
    "                          )\n",
    "# pd.to_datetime(aqua_data_raw['date'], format='%y/%m/%d %H:%M:%S' )#1362114000\n",
    "aqua_ephemeris = pd.DataFrame(aqua_data_raw)\n"
   ]
  },
  {
   "cell_type": "code",
   "execution_count": 4,
   "metadata": {},
   "outputs": [],
   "source": [
    "# print aqua_ephemeris['date'][1]\n",
    "# aqua_ephemeris['date'] = pd.to_datetime(aqua_ephemeris['date'][1],format = ('%y/%m/%d %H:%M:%f'))\n",
    "aqua_ephemeris['date'] = pd.to_datetime(aqua_ephemeris['date'],format = ('%y/%m/%d %H:%M:%f'))  \n",
    "# print aqua_ephemeris['date']\n",
    "new_date = aqua_ephemeris['date'].dt.strftime('%y-%m-%d %H:%M:%S')\n",
    "# print new_date\n",
    "\n",
    "# aqua_data_raw['date'] = aqua_data_raw['date'].dt.strftime('%m/%d/%Y')\n",
    "# print (aqua_data_raw)"
   ]
  },
  {
   "cell_type": "markdown",
   "metadata": {},
   "source": [
    "### Find altitude of satellite"
   ]
  },
  {
   "cell_type": "code",
   "execution_count": 5,
   "metadata": {},
   "outputs": [],
   "source": [
    "R_e = 6378.137   # km \n",
    "altitude_aqua = aqua_ephemeris.radius - R_e\n",
    "\n",
    "aqua_ephemeris['altitude'] = altitude_aqua "
   ]
  },
  {
   "cell_type": "markdown",
   "metadata": {},
   "source": [
    "# Import TIEGCM data"
   ]
  },
  {
   "cell_type": "code",
   "execution_count": 6,
   "metadata": {},
   "outputs": [
    {
     "data": {
      "text/html": [
       "<script>requirejs.config({paths: { 'plotly': ['https://cdn.plot.ly/plotly-latest.min']},});if(!window.Plotly) {{require(['plotly'],function(plotly) {window.Plotly=plotly;});}}</script>"
      ],
      "text/vnd.plotly.v1+html": [
       "<script>requirejs.config({paths: { 'plotly': ['https://cdn.plot.ly/plotly-latest.min']},});if(!window.Plotly) {{require(['plotly'],function(plotly) {window.Plotly=plotly;});}}</script>"
      ]
     },
     "metadata": {},
     "output_type": "display_data"
    }
   ],
   "source": [
    "import pandas as pd\n",
    "import numpy as np\n",
    "from scipy.spatial import kdtree\n",
    "from scipy.interpolate import griddata, LinearNDInterpolator\n",
    "import scipy\n",
    "from netCDF4 import Dataset\n",
    "from plotly.offline import plot, iplot\n",
    "import plotly.graph_objs as go\n",
    "from plotly.graph_objs import Layout\n",
    "import plotly\n",
    "import matplotlib.pyplot as plt\n",
    "\n",
    "plotly.offline.init_notebook_mode(connected=True)\n",
    "\n",
    "# from tiegcm.tiegcm_original import TIEGCM as TIEGCM_original\n",
    "# from tiegcm.tiegcm_original import Point3D as Point3D_original\n",
    "# from tiegcm.tiegcm_original import Point4D as Point4D_original\n",
    "# from tiegcm.tiegcm_original import Point4D as Point4D_original\n",
    "# from tiegcm.tiegcm_original import Slice_key4D as Slice_key4D_original\n",
    "# from tiegcm.tiegcm_original import ColumnSlice4D as ColumnSlice4D_original\n",
    "# from tiegcm.tiegcm_original import ColumnSlice3D as ColumnSlice3D_original\n",
    "# from tiegcm.util_original import average_longitude as average_longitude_original\n",
    "# from tiegcm.util_original import *\n",
    "# from tiegcm.tiegcm_original import Model_Manager as Model_Manager_o\n",
    "\n",
    "\n",
    "from tiegcm.tiegcm import *\n",
    "from tiegcm.util import *\n",
    "\n"
   ]
  },
  {
   "cell_type": "markdown",
   "metadata": {},
   "source": [
    "### Create a function that we will use to extract the tiegcm data at any given point."
   ]
  },
  {
   "cell_type": "code",
   "execution_count": 7,
   "metadata": {},
   "outputs": [],
   "source": [
    "# density_model = []\n",
    "# # tiegcm = TIEGCM('../data/TIEGCM_CCMC/my_stuff/s_003.nc')\n",
    "# for i,idate in enumerate(aqua_ephemeris['date'][1:10]):\n",
    "#         lon = np.round(np.array(aqua_ephemeris['lon'][i]) , decimals=2)\n",
    "#         lat = np.round(np.array(aqua_ephemeris['lat'][i]) , decimals=2)\n",
    "#         alt = np.round(np.array(aqua_ephemeris['altitude'][i]) , decimals=2)*1e5\n",
    "#         idate = aqua_ephemeris['date'][i]\n",
    "#         time = np.round(float(np.array( idate[9:11] )) , decimals=2)\n",
    "#         print alt\n",
    "# #         print lat\n",
    "# #         print time\n",
    "            \n",
    "# #         density_model.append(tiegcm.density(lat, lon, alt, time ))\n"
   ]
  },
  {
   "cell_type": "markdown",
   "metadata": {},
   "source": [
    "#### # Test the model manager"
   ]
  },
  {
   "cell_type": "code",
   "execution_count": 8,
   "metadata": {},
   "outputs": [],
   "source": [
    "# directory = '../data/TIEGCM_CCMC/IRIDEA/main_2013_065_data-mult-fac-1p0.0/'\n",
    "\n",
    "# model_test = Model_Manager_o(directory)\n",
    "\n",
    "# xlon = 100\n",
    "# xlat = 30\n",
    "# xalt = 450*1e5\n",
    "# time = 12\n",
    "\n",
    "# density_mm = model_test.density(xlat, xlon, xalt,  pd.Timestamp('2013-03-01 1:00:02') )\n",
    "\n",
    "# print model_test.files\n",
    "# print model_test.file_times"
   ]
  },
  {
   "cell_type": "code",
   "execution_count": 9,
   "metadata": {},
   "outputs": [],
   "source": [
    "def sample_TIEGCM(files, tiegcm_version):\n",
    "    if tiegcm_version == \"original\":\n",
    "        tiegcm = Model_Manager_o(files)\n",
    "    elif tiegcm_version == \"edited\":\n",
    "        tiegcm = Model_Manager(files)\n",
    "#     new_date = pd.to_datetime(aqua_ephemeris['date'],format = ('%y/%m/%d %H:%M:%f'))  \n",
    "    density_model = []\n",
    "    title_y_string =  'density profile from ' + tiegcm_version + ' reader'\n",
    "    title_string = tiegcm_version +' TIEGCM sampled using Aqua'\n",
    "\n",
    "    \n",
    "\n",
    "    for i,idate in enumerate(aqua_ephemeris['date'][0:50]):\n",
    "        xlon = np.round(np.array(aqua_ephemeris['lon'][i]) , decimals=2)\n",
    "        xlat = np.round(np.array(aqua_ephemeris['lat'][i])  , decimals=2)\n",
    "        xalt = np.round(aqua_ephemeris['altitude'][i] , decimals=2) *1e5\n",
    "        idate = aqua_ephemeris['date'][i]\n",
    "#         time = new_date[50:100]\n",
    "        time = new_date[i]\n",
    "        print 'time = ', idate\n",
    "        density_model.append(tiegcm.density(xlat, xlon, xalt,  idate ))\n",
    "\n",
    "        \n",
    "    plot_dens = go.Scatter(\n",
    "                    x = aqua_ephemeris['date'][0:i],#plt_date ,\n",
    "                    y = 1e3*np.array(density_model),\n",
    "                      name= title_y_string, mode = 'markers',marker= dict(size =4) )\n",
    "\n",
    "    data = [plot_dens]\n",
    "\n",
    "    layout = go.Layout(\n",
    "                    xaxis=dict( title = 'Date'),\n",
    "                    yaxis=dict(type='log', autorange=True, exponentformat='power',\n",
    "                           showexponent='all',title = 'Density [km]'), \n",
    "                    title = title_string)\n",
    "\n",
    "#     fig = go.Figure(data=data, layout=layout)\n",
    "#     iplot(fig)\n",
    "   \n",
    "    #plug into drag equation...?\n",
    "    return plot_dens\n",
    "    \n"
   ]
  },
  {
   "cell_type": "code",
   "execution_count": 10,
   "metadata": {
    "scrolled": true
   },
   "outputs": [
    {
     "name": "stdout",
     "output_type": "stream",
     "text": [
      "initializing tiegcm with ../../Summer2019_data/TIEGCM_data/2013.03.01-2013.03.03_quiet/CCMC_2013.03.01.tiegcm.data/s001.nc\n",
      "initializing tiegcm with ../../Summer2019_data/TIEGCM_data/2013.03.01-2013.03.03_quiet/CCMC_2013.03.01.tiegcm.data/s002.nc\n",
      "initializing tiegcm with ../../Summer2019_data/TIEGCM_data/2013.03.01-2013.03.03_quiet/CCMC_2013.03.01.tiegcm.data/s003.nc\n",
      "initializing tiegcm with ../../Summer2019_data/TIEGCM_data/2013.03.01-2013.03.03_quiet/CCMC_2013.03.01.tiegcm.data/s001.nc\n"
     ]
    },
    {
     "name": "stderr",
     "output_type": "stream",
     "text": [
      "tiegcm\\tiegcm.py:213: UserWarning:\n",
      "\n",
      "WARNING: missing_value not used since it\n",
      "cannot be safely cast to variable data type\n",
      "\n"
     ]
    },
    {
     "name": "stdout",
     "output_type": "stream",
     "text": [
      "initializing tiegcm with ../../Summer2019_data/TIEGCM_data/2013.03.01-2013.03.03_quiet/CCMC_2013.03.01.tiegcm.data/s002.nc\n",
      "initializing tiegcm with ../../Summer2019_data/TIEGCM_data/2013.03.01-2013.03.03_quiet/CCMC_2013.03.01.tiegcm.data/s003.nc\n",
      "model manager initialized\n",
      "current time (Timestamp('2013-03-01 00:20:00'), Timestamp('2013-03-01 08:00:00'))\n",
      "time =  2013-03-01 00:00:00\n",
      "time =  2013-03-01 00:01:00\n",
      "time =  2013-03-01 00:02:00\n",
      "time =  2013-03-01 00:03:00\n",
      "time =  2013-03-01 00:04:00\n",
      "time =  2013-03-01 00:05:00\n",
      "time =  2013-03-01 00:06:00\n",
      "time =  2013-03-01 00:07:00\n",
      "time =  2013-03-01 00:08:00\n",
      "time =  2013-03-01 00:09:00\n",
      "time =  2013-03-01 00:10:00\n",
      "time =  2013-03-01 00:11:00\n",
      "time =  2013-03-01 00:12:00\n",
      "time =  2013-03-01 00:13:00\n",
      "time =  2013-03-01 00:14:00\n",
      "time =  2013-03-01 00:15:00\n",
      "time =  2013-03-01 00:16:00\n",
      "time =  2013-03-01 00:17:00\n",
      "time =  2013-03-01 00:18:00\n",
      "time =  2013-03-01 00:19:00\n",
      "time =  2013-03-01 00:20:00\n",
      "time =  2013-03-01 00:21:00\n",
      "time =  2013-03-01 00:22:00\n",
      "time =  2013-03-01 00:23:00\n",
      "time =  2013-03-01 00:24:00\n",
      "time =  2013-03-01 00:25:00\n",
      "time =  2013-03-01 00:26:00\n",
      "time =  2013-03-01 00:27:00\n",
      "time =  2013-03-01 00:28:00\n",
      "time =  2013-03-01 00:29:00\n",
      "time =  2013-03-01 00:30:00\n",
      "time =  2013-03-01 00:31:00\n",
      "time =  2013-03-01 00:32:00\n",
      "time =  2013-03-01 00:33:00\n",
      "time =  2013-03-01 00:34:00\n",
      "time =  2013-03-01 00:35:00\n",
      "time =  2013-03-01 00:36:00\n",
      "time =  2013-03-01 00:37:00\n",
      "time =  2013-03-01 00:38:00\n",
      "time =  2013-03-01 00:39:00\n",
      "time =  2013-03-01 00:40:00\n",
      "time =  2013-03-01 00:41:00\n",
      "time =  2013-03-01 00:42:00\n",
      "time =  2013-03-01 00:43:00\n",
      "time =  2013-03-01 00:44:00\n",
      "time =  2013-03-01 00:45:00\n",
      "time =  2013-03-01 00:46:00\n",
      "time =  2013-03-01 00:47:00\n",
      "time =  2013-03-01 00:48:00\n",
      "time =  2013-03-01 00:49:00\n"
     ]
    },
    {
     "data": {
      "application/vnd.plotly.v1+json": {
       "data": [
        {
         "marker": {
          "size": 4
         },
         "mode": "markers",
         "name": "density profile from edited reader",
         "type": "scatter",
         "uid": "2b15ff30-b6f7-11e9-b535-f83441d4f485",
         "x": [
          "2013-03-01",
          "2013-03-01 00:01:00",
          "2013-03-01 00:02:00",
          "2013-03-01 00:03:00",
          "2013-03-01 00:04:00",
          "2013-03-01 00:05:00",
          "2013-03-01 00:06:00",
          "2013-03-01 00:07:00",
          "2013-03-01 00:08:00",
          "2013-03-01 00:09:00",
          "2013-03-01 00:10:00",
          "2013-03-01 00:11:00",
          "2013-03-01 00:12:00",
          "2013-03-01 00:13:00",
          "2013-03-01 00:14:00",
          "2013-03-01 00:15:00",
          "2013-03-01 00:16:00",
          "2013-03-01 00:17:00",
          "2013-03-01 00:18:00",
          "2013-03-01 00:19:00",
          "2013-03-01 00:20:00",
          "2013-03-01 00:21:00",
          "2013-03-01 00:22:00",
          "2013-03-01 00:23:00",
          "2013-03-01 00:24:00",
          "2013-03-01 00:25:00",
          "2013-03-01 00:26:00",
          "2013-03-01 00:27:00",
          "2013-03-01 00:28:00",
          "2013-03-01 00:29:00",
          "2013-03-01 00:30:00",
          "2013-03-01 00:31:00",
          "2013-03-01 00:32:00",
          "2013-03-01 00:33:00",
          "2013-03-01 00:34:00",
          "2013-03-01 00:35:00",
          "2013-03-01 00:36:00",
          "2013-03-01 00:37:00",
          "2013-03-01 00:38:00",
          "2013-03-01 00:39:00",
          "2013-03-01 00:40:00",
          "2013-03-01 00:41:00",
          "2013-03-01 00:42:00",
          "2013-03-01 00:43:00",
          "2013-03-01 00:44:00",
          "2013-03-01 00:45:00",
          "2013-03-01 00:46:00",
          "2013-03-01 00:47:00",
          "2013-03-01 00:48:00"
         ],
         "y": [
          0,
          0,
          0,
          0,
          0,
          0,
          0,
          0,
          0,
          0,
          0,
          0,
          0,
          0,
          0,
          0,
          0,
          0,
          0,
          0,
          1.5879208645129588e-14,
          1.499097383476267e-14,
          1.3983151655453897e-14,
          1.3030393810620064e-14,
          1.2399193586275418e-14,
          1.2140826852826849e-14,
          1.1911468631840083e-14,
          1.1673534780239867e-14,
          1.1414918731608729e-14,
          1.1111858229525113e-14,
          1.0843098779176317e-14,
          1.057964608845538e-14,
          1.0280655441080372e-14,
          9.963006070842974e-15,
          9.66641478815171e-15,
          9.494833134641828e-15,
          9.544317349874213e-15,
          9.796896400387863e-15,
          1.0116691702344401e-14,
          1.0363781110654993e-14,
          1.0487766397212881e-14,
          1.0632828789555698e-14,
          1.0937607890895294e-14,
          1.145133737750982e-14,
          1.2066969161974709e-14,
          1.26208199641618e-14,
          1.2996625250960569e-14,
          1.3137896762506903e-14,
          1.3174340255151622e-14,
          1.322562457673968e-14
         ]
        }
       ],
       "layout": {
        "title": "TIEGCM sampled using Aqua",
        "xaxis": {
         "title": "Date"
        },
        "yaxis": {
         "autorange": true,
         "exponentformat": "power",
         "showexponent": "all",
         "title": "Density [km]",
         "type": "log"
        }
       }
      },
      "text/html": [
       "<div id=\"56204810-8ff1-4407-b973-4650e7ccee6e\" style=\"height: 525px; width: 100%;\" class=\"plotly-graph-div\"></div><script type=\"text/javascript\">require([\"plotly\"], function(Plotly) { window.PLOTLYENV=window.PLOTLYENV || {};window.PLOTLYENV.BASE_URL=\"https://plot.ly\";Plotly.newPlot(\"56204810-8ff1-4407-b973-4650e7ccee6e\", [{\"name\": \"density profile from edited reader\", \"marker\": {\"size\": 4}, \"mode\": \"markers\", \"y\": [0.0, 0.0, 0.0, 0.0, 0.0, 0.0, 0.0, 0.0, 0.0, 0.0, 0.0, 0.0, 0.0, 0.0, 0.0, 0.0, 0.0, 0.0, 0.0, 0.0, 1.5879208645129588e-14, 1.499097383476267e-14, 1.3983151655453897e-14, 1.3030393810620064e-14, 1.2399193586275418e-14, 1.2140826852826849e-14, 1.1911468631840083e-14, 1.1673534780239867e-14, 1.1414918731608729e-14, 1.1111858229525113e-14, 1.0843098779176317e-14, 1.057964608845538e-14, 1.0280655441080372e-14, 9.963006070842974e-15, 9.66641478815171e-15, 9.494833134641828e-15, 9.544317349874213e-15, 9.796896400387863e-15, 1.0116691702344401e-14, 1.0363781110654993e-14, 1.0487766397212881e-14, 1.0632828789555698e-14, 1.0937607890895294e-14, 1.145133737750982e-14, 1.2066969161974709e-14, 1.26208199641618e-14, 1.2996625250960569e-14, 1.3137896762506903e-14, 1.3174340255151622e-14, 1.322562457673968e-14], \"x\": [\"2013-03-01\", \"2013-03-01 00:01:00\", \"2013-03-01 00:02:00\", \"2013-03-01 00:03:00\", \"2013-03-01 00:04:00\", \"2013-03-01 00:05:00\", \"2013-03-01 00:06:00\", \"2013-03-01 00:07:00\", \"2013-03-01 00:08:00\", \"2013-03-01 00:09:00\", \"2013-03-01 00:10:00\", \"2013-03-01 00:11:00\", \"2013-03-01 00:12:00\", \"2013-03-01 00:13:00\", \"2013-03-01 00:14:00\", \"2013-03-01 00:15:00\", \"2013-03-01 00:16:00\", \"2013-03-01 00:17:00\", \"2013-03-01 00:18:00\", \"2013-03-01 00:19:00\", \"2013-03-01 00:20:00\", \"2013-03-01 00:21:00\", \"2013-03-01 00:22:00\", \"2013-03-01 00:23:00\", \"2013-03-01 00:24:00\", \"2013-03-01 00:25:00\", \"2013-03-01 00:26:00\", \"2013-03-01 00:27:00\", \"2013-03-01 00:28:00\", \"2013-03-01 00:29:00\", \"2013-03-01 00:30:00\", \"2013-03-01 00:31:00\", \"2013-03-01 00:32:00\", \"2013-03-01 00:33:00\", \"2013-03-01 00:34:00\", \"2013-03-01 00:35:00\", \"2013-03-01 00:36:00\", \"2013-03-01 00:37:00\", \"2013-03-01 00:38:00\", \"2013-03-01 00:39:00\", \"2013-03-01 00:40:00\", \"2013-03-01 00:41:00\", \"2013-03-01 00:42:00\", \"2013-03-01 00:43:00\", \"2013-03-01 00:44:00\", \"2013-03-01 00:45:00\", \"2013-03-01 00:46:00\", \"2013-03-01 00:47:00\", \"2013-03-01 00:48:00\"], \"type\": \"scatter\", \"uid\": \"2b15ff30-b6f7-11e9-b535-f83441d4f485\"}], {\"title\": \"TIEGCM sampled using Aqua\", \"xaxis\": {\"title\": \"Date\"}, \"yaxis\": {\"showexponent\": \"all\", \"type\": \"log\", \"autorange\": true, \"exponentformat\": \"power\", \"title\": \"Density [km]\"}}, {\"linkText\": \"Export to plot.ly\", \"showLink\": true})});</script>"
      ],
      "text/vnd.plotly.v1+html": [
       "<div id=\"56204810-8ff1-4407-b973-4650e7ccee6e\" style=\"height: 525px; width: 100%;\" class=\"plotly-graph-div\"></div><script type=\"text/javascript\">require([\"plotly\"], function(Plotly) { window.PLOTLYENV=window.PLOTLYENV || {};window.PLOTLYENV.BASE_URL=\"https://plot.ly\";Plotly.newPlot(\"56204810-8ff1-4407-b973-4650e7ccee6e\", [{\"name\": \"density profile from edited reader\", \"marker\": {\"size\": 4}, \"mode\": \"markers\", \"y\": [0.0, 0.0, 0.0, 0.0, 0.0, 0.0, 0.0, 0.0, 0.0, 0.0, 0.0, 0.0, 0.0, 0.0, 0.0, 0.0, 0.0, 0.0, 0.0, 0.0, 1.5879208645129588e-14, 1.499097383476267e-14, 1.3983151655453897e-14, 1.3030393810620064e-14, 1.2399193586275418e-14, 1.2140826852826849e-14, 1.1911468631840083e-14, 1.1673534780239867e-14, 1.1414918731608729e-14, 1.1111858229525113e-14, 1.0843098779176317e-14, 1.057964608845538e-14, 1.0280655441080372e-14, 9.963006070842974e-15, 9.66641478815171e-15, 9.494833134641828e-15, 9.544317349874213e-15, 9.796896400387863e-15, 1.0116691702344401e-14, 1.0363781110654993e-14, 1.0487766397212881e-14, 1.0632828789555698e-14, 1.0937607890895294e-14, 1.145133737750982e-14, 1.2066969161974709e-14, 1.26208199641618e-14, 1.2996625250960569e-14, 1.3137896762506903e-14, 1.3174340255151622e-14, 1.322562457673968e-14], \"x\": [\"2013-03-01\", \"2013-03-01 00:01:00\", \"2013-03-01 00:02:00\", \"2013-03-01 00:03:00\", \"2013-03-01 00:04:00\", \"2013-03-01 00:05:00\", \"2013-03-01 00:06:00\", \"2013-03-01 00:07:00\", \"2013-03-01 00:08:00\", \"2013-03-01 00:09:00\", \"2013-03-01 00:10:00\", \"2013-03-01 00:11:00\", \"2013-03-01 00:12:00\", \"2013-03-01 00:13:00\", \"2013-03-01 00:14:00\", \"2013-03-01 00:15:00\", \"2013-03-01 00:16:00\", \"2013-03-01 00:17:00\", \"2013-03-01 00:18:00\", \"2013-03-01 00:19:00\", \"2013-03-01 00:20:00\", \"2013-03-01 00:21:00\", \"2013-03-01 00:22:00\", \"2013-03-01 00:23:00\", \"2013-03-01 00:24:00\", \"2013-03-01 00:25:00\", \"2013-03-01 00:26:00\", \"2013-03-01 00:27:00\", \"2013-03-01 00:28:00\", \"2013-03-01 00:29:00\", \"2013-03-01 00:30:00\", \"2013-03-01 00:31:00\", \"2013-03-01 00:32:00\", \"2013-03-01 00:33:00\", \"2013-03-01 00:34:00\", \"2013-03-01 00:35:00\", \"2013-03-01 00:36:00\", \"2013-03-01 00:37:00\", \"2013-03-01 00:38:00\", \"2013-03-01 00:39:00\", \"2013-03-01 00:40:00\", \"2013-03-01 00:41:00\", \"2013-03-01 00:42:00\", \"2013-03-01 00:43:00\", \"2013-03-01 00:44:00\", \"2013-03-01 00:45:00\", \"2013-03-01 00:46:00\", \"2013-03-01 00:47:00\", \"2013-03-01 00:48:00\"], \"type\": \"scatter\", \"uid\": \"2b15ff30-b6f7-11e9-b535-f83441d4f485\"}], {\"title\": \"TIEGCM sampled using Aqua\", \"xaxis\": {\"title\": \"Date\"}, \"yaxis\": {\"showexponent\": \"all\", \"type\": \"log\", \"autorange\": true, \"exponentformat\": \"power\", \"title\": \"Density [km]\"}}, {\"linkText\": \"Export to plot.ly\", \"showLink\": true})});</script>"
      ]
     },
     "metadata": {},
     "output_type": "display_data"
    }
   ],
   "source": [
    "    data = [\n",
    "#            sample_TIEGCM('../data/TIEGCM_data/2013.03.01-2013.03.03_quiet/Cheyenne_2013.03.01.tiegcm.data/', 'original'),\n",
    "           sample_TIEGCM('../../Summer2019_data/TIEGCM_data/2013.03.01-2013.03.03_quiet/CCMC_2013.03.01.tiegcm.data/', 'edited'),\n",
    "    ]\n",
    "#            sample_TIEGCM('../../Summer2019_data/TIEGCM_data/2013.03.01-2013.03.03_quiet/Cheyenne_2013.03.01.tiegcm.data/', 'edited')]\n",
    "# data = [sample_TIEGCM('../data/TIEGCM_CCMC/s010.nc', 'original'),\n",
    "#         sample_TIEGCM('../data/TIEGCM_CCMC/s010.nc', 'edited')]\n",
    "\n",
    "layout = go.Layout(\n",
    "                    xaxis=dict( title = 'Date'),\n",
    "                    yaxis=dict(type='log', autorange=True, exponentformat='power',\n",
    "                           showexponent='all',title = 'Density [km]'), \n",
    "                    title = \"TIEGCM sampled using Aqua\"\n",
    "    )\n",
    "\n",
    "fig = go.Figure(data=data, layout=layout)\n",
    "iplot(fig)\n",
    "\n",
    "\n"
   ]
  },
  {
   "cell_type": "code",
   "execution_count": null,
   "metadata": {},
   "outputs": [],
   "source": []
  },
  {
   "cell_type": "code",
   "execution_count": null,
   "metadata": {
    "scrolled": false
   },
   "outputs": [],
   "source": [
    "\n",
    "\n"
   ]
  },
  {
   "cell_type": "code",
   "execution_count": null,
   "metadata": {},
   "outputs": [],
   "source": []
  }
 ],
 "metadata": {
  "kernelspec": {
   "display_name": "Python 2",
   "language": "python",
   "name": "python2"
  },
  "language_info": {
   "codemirror_mode": {
    "name": "ipython",
    "version": 2
   },
   "file_extension": ".py",
   "mimetype": "text/x-python",
   "name": "python",
   "nbconvert_exporter": "python",
   "pygments_lexer": "ipython2",
   "version": "2.7.16"
  }
 },
 "nbformat": 4,
 "nbformat_minor": 2
}
